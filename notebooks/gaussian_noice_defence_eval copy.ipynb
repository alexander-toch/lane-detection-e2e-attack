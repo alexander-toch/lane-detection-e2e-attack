{
 "cells": [
  {
   "cell_type": "code",
   "execution_count": 2,
   "metadata": {},
   "outputs": [
    {
     "name": "stdout",
     "output_type": "stream",
     "text": [
      "env: OPENCV_IO_ENABLE_OPENEXR=1\n"
     ]
    },
    {
     "name": "stderr",
     "output_type": "stream",
     "text": [
      "c:\\Users\\alexa\\.conda\\envs\\pad11\\Lib\\site-packages\\tqdm\\auto.py:21: TqdmWarning: IProgress not found. Please update jupyter and ipywidgets. See https://ipywidgets.readthedocs.io/en/stable/user_install.html\n",
      "INFO:art.config:set ART_DATA_PATH to C:\\Users\\alexa\\.art\\data\n"
     ]
    }
   ],
   "source": [
    "%env OPENCV_IO_ENABLE_OPENEXR=1\n",
    "import sys\n",
    "import os\n",
    "sys.path.append(os.path.dirname(os.getcwd()))\n",
    "from PIL import Image\n",
    "import torch\n",
    "import numpy as np\n",
    "import cupy as cp\n",
    "from matplotlib import pyplot as plt\n",
    "from inference_pytorch import PyTorchPipeline\n",
    "os.environ[\"OPENCV_IO_ENABLE_OPENEXR\"]=\"1\"\n",
    "import cv2\n",
    "from attack.pytorch_auto_drive.utils.lane_det_utils import lane_as_segmentation_inference\n",
    "from lanefitting import get_offset_center, Camera\n",
    "from config import *\n",
    "\n",
    "def get_ipm_matrix(cam, image):\n",
    "    cam_height = 50.0\n",
    "    x_offset = 35.0 # in driving direction\n",
    "\n",
    "    outputRes = (int(2 * cam.config[\"py\"]), int(2 * cam.config[\"px\"]))\n",
    "    dx = outputRes[1] / cam.config[\"fx\"] * cam_height\n",
    "    dy = outputRes[0] / cam.config[\"fy\"] * cam_height\n",
    "    pxPerM = (outputRes[0] / dx, outputRes[1] / dy)\n",
    "\n",
    "\n",
    "    # setup mapping from street/top-image plane to world coords\n",
    "    shift = (outputRes[0] / 2.0, outputRes[1] / 2.0) # was (outputRes[0] / 2.0, outputRes[1] / 2.0)\n",
    "    shift = shift[0] + x_offset * pxPerM[0], shift[1] - cam.config[\"XCam\"] * pxPerM[1]\n",
    "    M = np.array([[1.0 / pxPerM[1], 0.0, -shift[1] / pxPerM[1]], [0.0, -1.0 / pxPerM[0], shift[0] / pxPerM[0]], [0.0, 0.0, 0.0], [0.0, 0.0, 1.0]])\n",
    "\n",
    "    ipm = np.linalg.inv(cam.P.dot(M))\n",
    "    return ipm\n",
    "\n",
    "config_800x288 = {\n",
    "    'fx': 692.82,\n",
    "    'fy': 692.82, \n",
    "    'px': 400.0, \n",
    "    'py': 144.0, \n",
    "    'yaw': 90.0, \n",
    "    'pitch': 0.0, \n",
    "    'roll': 0.0, \n",
    "    'XCam': 0.0, \n",
    "    'YCam': 0.0, \n",
    "    'ZCam': 1.5\n",
    "}\n",
    "cam = Camera(config_800x288)"
   ]
  },
  {
   "cell_type": "code",
   "execution_count": 22,
   "metadata": {},
   "outputs": [
    {
     "name": "stderr",
     "output_type": "stream",
     "text": [
      "INFO:art.estimators.classification.pytorch:Inferred 4 hidden layers on PyTorch classifier.\n"
     ]
    },
    {
     "data": {
      "image/png": "[encoded data removed]",
      "text/plain": [
       "<Figure size 1000x500 with 3 Axes>"
      ]
     },
     "metadata": {},
     "output_type": "display_data"
    },
    {
     "name": "stdout",
     "output_type": "stream",
     "text": [
      "Offset center base model: None\n",
      "Offset center trained model: 1.8682\n"
     ]
    }
   ],
   "source": [
    "\n",
    "model = \"erfnet\"\n",
    "image = cv2.imread(\"single_frame_eval.exr\", cv2.IMREAD_UNCHANGED)\n",
    "# image = cv2.imread(\"erfnet_280.exr\", cv2.IMREAD_UNCHANGED) # use this for erfnet and disable patching\n",
    "image_size = image.shape[:2][::-1]\n",
    "model_in = image.transpose(2, 0, 1)#.astype(np.float32) / 255.0\n",
    "TARGET=np.load(\"../attack/targets/right_new.npy\", allow_pickle=True).item()\n",
    "\n",
    "pipeline_base = PyTorchPipeline(targeted=True, patch_size=(80, 80), \n",
    "                                        max_iterations=400,\n",
    "                                        model=model)\n",
    "\n",
    "\n",
    "def get_probmap_images(probmaps, image_size):\n",
    "    prob_maps = torch.nn.functional.interpolate(probmaps['out'], \n",
    "                                                size=(image_size[1], image_size[0]), mode='bilinear', align_corners=True)\n",
    "    prob_maps_softmax = prob_maps.detach().clone().softmax(dim=1)\n",
    "    \n",
    "    merged = np.zeros_like(prob_maps[0][1].detach().cpu().numpy())\n",
    "    merged_softmax = np.zeros_like(prob_maps_softmax[0][1].detach().cpu().numpy())\n",
    "\n",
    "    for i, lane in enumerate(prob_maps[0]):\n",
    "        if i == 0: # skip first iteration (background class)\n",
    "            continue\n",
    "        pred = lane.detach().cpu().numpy()\n",
    "        pred_softmax = prob_maps_softmax[0][i].detach().cpu().numpy()\n",
    "        merged = np.maximum(merged, pred)\n",
    "        merged_softmax = np.maximum(merged_softmax, pred_softmax)\n",
    "\n",
    "    im = merged\n",
    "    im_softmax = merged_softmax\n",
    "\n",
    "    return im, im_softmax\n",
    "\n",
    "model_in = torch.from_numpy(model_in).unsqueeze(0).to(pipeline_base.device)\n",
    "patch = pipeline_base.attack.generate(x=model_in.cpu().numpy(), y=TARGET)[0]\n",
    "patch_cuda= torch.from_numpy(patch).to(pipeline_base.device)\n",
    "\n",
    "x_1, y_1 = pipeline_base.patch_location\n",
    "x_2, y_2 = x_1 + patch.shape[2], y_1 + patch.shape[1]\n",
    "model_in[0][:, y_1:y_2, x_1:x_2] = patch_cuda\n",
    "\n",
    "results = pipeline_base.model(model_in)\n",
    "\n",
    "model_in = image.transpose(2, 0, 1)#.astype(np.float32) / 255.0\n",
    "model_in = torch.from_numpy(model_in).unsqueeze(0).to(pipeline_base.device)\n",
    "model_in[0][:, y_1:y_2, x_1:x_2] = patch_cuda\n",
    "\n",
    "temp = model_in[0].cpu().numpy()\n",
    "noise = np.random.normal(0, 0.025, (image.shape[2], image.shape[0], image.shape[1]))\n",
    "temp += noise\n",
    "temp = np.clip(temp, 0, 1)\n",
    "\n",
    "model_in = torch.from_numpy(temp).unsqueeze(0).to(pipeline_base.device)\n",
    "\n",
    "results_noise = pipeline_base.model(model_in)\n",
    "\n",
    "keypoints = lane_as_segmentation_inference(\n",
    "        None,\n",
    "        results,\n",
    "        [input_sizes, input_sizes],\n",
    "        gap,\n",
    "        ppl,\n",
    "        thresh,\n",
    "        dataset,\n",
    "        max_lane,\n",
    "        forward=False,  # already called model\n",
    "    )[0]\n",
    "\n",
    "keypoints_noise = lane_as_segmentation_inference(\n",
    "        None,\n",
    "        results_noise,\n",
    "        [input_sizes, input_sizes],\n",
    "        gap,\n",
    "        ppl,\n",
    "        thresh,\n",
    "        dataset,\n",
    "        max_lane,\n",
    "        forward=False,  # already called model\n",
    "    )[0]\n",
    "ipm_small = get_ipm_matrix(cam, image)\n",
    "offset_center, _, _ = get_offset_center(\n",
    "    keypoints, (image_size[0], image_size[1]), ipm_small\n",
    ")\n",
    "offset_center_noise, _, _ = get_offset_center(\n",
    "    keypoints_noise, (image_size[0], image_size[1]), ipm_small\n",
    ")\n",
    "\n",
    "im, im_softmax = get_probmap_images(results, image_size)\n",
    "im_trained, im_softmax_trained = get_probmap_images(results_noise, image_size)\n",
    "\n",
    "# show im side by side and softmax in the next line side by side\n",
    "fig, ax = plt.subplots(1, 2, figsize=(10, 5))\n",
    "# ax[0, 0].imshow(im, cmap='hot')\n",
    "ax[0].set_title('Without noise')\n",
    "# ax[0, 1].imshow(im_trained, cmap='hot')\n",
    "ax[1].set_title('With noise')\n",
    "ax[0].imshow(im_softmax, cmap='hot')\n",
    "i = ax[1].imshow(im_softmax_trained, cmap='hot')\n",
    "cax = fig.add_axes([ax[1].get_position().x1+0.01,ax[1].get_position().y0,0.02,ax[1].get_position().height])\n",
    "plt.colorbar(i, cax=cax)\n",
    "\n",
    "\n",
    "plt.savefig(f\"probmaps_defence_gda_{model}.pdf\", format=\"pdf\", bbox_inches=\"tight\")\n",
    "\n",
    "plt.show()\n",
    "\n",
    "print(f\"Offset center base model: {offset_center}\")\n",
    "print(f\"Offset center trained model: {offset_center_noise}\")\n"
   ]
  }
 ],
 "metadata": {
  "kernelspec": {
   "display_name": "pad11",
   "language": "python",
   "name": "python3"
  },
  "language_info": {
   "codemirror_mode": {
    "name": "ipython",
    "version": 3
   },
   "file_extension": ".py",
   "mimetype": "text/x-python",
   "name": "python",
   "nbconvert_exporter": "python",
   "pygments_lexer": "ipython3",
   "version": "3.11.9"
  }
 },
 "nbformat": 4,
 "nbformat_minor": 2
}
